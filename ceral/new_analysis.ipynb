{
 "cells": [
  {
   "cell_type": "markdown",
   "metadata": {},
   "source": [
    "# This is statistical data analysis method of the  numpy"
   ]
  },
  {
   "cell_type": "code",
   "execution_count": 3,
   "metadata": {},
   "outputs": [
    {
     "name": "stdout",
     "output_type": "stream",
     "text": [
      "The Mean is  2.895\n",
      "The Median is  2.81\n",
      "The First quarter is  1.6775\n",
      "The Third  quarter is  4.025\n",
      "The IQR is  2.3475\n",
      "Std is  1.5267312577311483\n"
     ]
    }
   ],
   "source": [
    "import numpy as np\n",
    "\n",
    "rainfall = np.array([5.21, 3.76, 3.27, 2.35, 1.89, 1.55, 0.65, 1.06, 1.72, 3.35, 4.82, 5.11])\n",
    "\n",
    "rain_mean = np.mean(rainfall)\n",
    "\n",
    "rain_median = np.median(rainfall)\n",
    "\n",
    "first_quarter = np.percentile(rainfall, 25)\n",
    "\n",
    "third_quarter = np.percentile(rainfall, 75)\n",
    "\n",
    "interquartile_range  = third_quarter - first_quarter\n",
    "\n",
    "rain_std = np.std(rainfall)\n",
    "\n",
    "print (\"The Mean is \" , rain_mean)\n",
    "print (\"The Median is \", rain_median)\n",
    "print (\"The First quarter is \", first_quarter)\n",
    "print (\"The Third  quarter is \",third_quarter)\n",
    "print ( \"The IQR is \",interquartile_range)\n",
    "print (\"Std is \", rain_std)"
   ]
  },
  {
   "cell_type": "code",
   "execution_count": 4,
   "metadata": {},
   "outputs": [
    {
     "name": "stdout",
     "output_type": "stream",
     "text": [
      "Hello world\n"
     ]
    }
   ],
   "source": [
    "print(\"Hello world\")"
   ]
  },
  {
   "cell_type": "code",
   "execution_count": 5,
   "metadata": {},
   "outputs": [],
   "source": [
    "import matplotlib.pyplot as plt"
   ]
  },
  {
   "cell_type": "markdown",
   "metadata": {},
   "source": [
    "# Normal Distribution\n",
    "Normal distribution is the one which is normally distributed on the both sides of the mean. It is a unimodel distribution. i. e. the values are distributed along the mean equally i.e. on the right  and left side"
   ]
  },
  {
   "cell_type": "code",
   "execution_count": 9,
   "metadata": {},
   "outputs": [
    {
     "name": "stdout",
     "output_type": "stream",
     "text": [
      "(1000000,)\n",
      "1\n"
     ]
    }
   ],
   "source": [
    "a = np.random.normal(loc = 0, scale = 1, size = 1000000)\n",
    "print(a.shape)\n",
    "print(a.ndim)"
   ]
  },
  {
   "cell_type": "code",
   "execution_count": 7,
   "metadata": {},
   "outputs": [
    {
     "data": {
      "image/png": "[encoded data removed]",
      "text/plain": [
       "<Figure size 432x288 with 1 Axes>"
      ]
     },
     "metadata": {
      "needs_background": "light"
     },
     "output_type": "display_data"
    }
   ],
   "source": [
    "import numpy as np\n",
    "from matplotlib import pyplot as plt\n",
    "\n",
    "# Brachiosaurus\n",
    "b_data = np.random.normal( 6.7, 0.7, 1000)\n",
    "\n",
    "# Fictionosaurus\n",
    "f_data = np.random.normal(7.7, 0.3, 1000)\n",
    "\n",
    "plt.hist(b_data,\n",
    "         bins=30, range=(5, 8.5), histtype='step',\n",
    "         label='Brachiosaurus')\n",
    "plt.hist(f_data,\n",
    "         bins=30, range=(5, 8.5), histtype='step',\n",
    "         label='Fictionosaurus')\n",
    "plt.xlabel('Femur Length (ft)')\n",
    "plt.legend(loc=2)\n",
    "plt.show()\n",
    "\n",
    "mystery_dino = \"Brachiosaurus\"\n",
    "answer = False "
   ]
  },
  {
   "cell_type": "markdown",
   "metadata": {},
   "source": [
    "# For Normal Distribution\n",
    "68% of our samples will fall between +/- 1 standard deviation of the mean\n",
    "95% of our samples will fall between +/- 2 standard deviations of the mean\n",
    "99.7% of our samples will fall between +/- 3 standard deviations of the mean"
   ]
  },
  {
   "cell_type": "code",
   "execution_count": null,
   "metadata": {},
   "outputs": [],
   "source": []
  }
 ],
 "metadata": {
  "kernelspec": {
   "display_name": "Python 3",
   "language": "python",
   "name": "python3"
  },
  "language_info": {
   "codemirror_mode": {
    "name": "ipython",
    "version": 3
   },
   "file_extension": ".py",
   "mimetype": "text/x-python",
   "name": "python",
   "nbconvert_exporter": "python",
   "pygments_lexer": "ipython3",
   "version": "3.7.3"
  }
 },
 "nbformat": 4,
 "nbformat_minor": 2
}
