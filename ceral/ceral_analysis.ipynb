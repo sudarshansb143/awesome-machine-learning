{
 "cells": [
  {
   "cell_type": "code",
   "execution_count": 3,
   "metadata": {},
   "outputs": [
    {
     "name": "stdout",
     "output_type": "stream",
     "text": [
      "19.35718533390827\n",
      "0.961038961038961\n"
     ]
    },
    {
     "data": {
      "text/plain": [
       "'We can use the data to prepare the marketing stratergy which is for the more than 60 calorie meal '"
      ]
     },
     "execution_count": 3,
     "metadata": {},
     "output_type": "execute_result"
    }
   ],
   "source": [
    "import numpy as np\n",
    "\n",
    "calorie_stats = np.genfromtxt(\"ceral.csv\", delimiter=\",\")\n",
    "\n",
    "# print(calorie_stats)\n",
    "\n",
    "average_calories = np.mean(calorie_stats)\n",
    "\n",
    "# print(average_calories)\n",
    "\n",
    "calorie_stats_sorted = np.sort(calorie_stats)\n",
    "\n",
    "# print(calorie_stats_sorted)\n",
    "\n",
    "median_calories = np.median(calorie_stats)\n",
    "\n",
    "# print(median_calories)\n",
    "\n",
    "nth_percentile = np.percentile(calorie_stats_sorted, 4)\n",
    "percentage = np.mean(calorie_stats > 60)\n",
    "\n",
    "calorie_std  = np.std(calorie_stats)\n",
    "print (calorie_std)\n",
    "print(percentage)\n",
    "\n",
    "\"\"\"We can use the data to prepare the marketing stratergy which is for the more than 60 calorie meal \"\"\""
   ]
  },
  {
   "cell_type": "code",
   "execution_count": null,
   "metadata": {},
   "outputs": [],
   "source": []
  }
 ],
 "metadata": {
  "kernelspec": {
   "display_name": "Python 3",
   "language": "python",
   "name": "python3"
  },
  "language_info": {
   "codemirror_mode": {
    "name": "ipython",
    "version": 3
   },
   "file_extension": ".py",
   "mimetype": "text/x-python",
   "name": "python",
   "nbconvert_exporter": "python",
   "pygments_lexer": "ipython3",
   "version": "3.7.3"
  }
 },
 "nbformat": 4,
 "nbformat_minor": 2
}
